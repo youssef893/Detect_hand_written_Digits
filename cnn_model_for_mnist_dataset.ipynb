{
  "metadata": {
    "kernelspec": {
      "language": "python",
      "display_name": "Python 3",
      "name": "python3"
    },
    "language_info": {
      "name": "python",
      "version": "3.7.12",
      "mimetype": "text/x-python",
      "codemirror_mode": {
        "name": "ipython",
        "version": 3
      },
      "pygments_lexer": "ipython3",
      "nbconvert_exporter": "python",
      "file_extension": ".py"
    },
    "colab": {
      "name": "notebookb471c1621d.ipynb",
      "provenance": [],
      "include_colab_link": true
    },
    "accelerator": "GPU"
  },
  "nbformat_minor": 0,
  "nbformat": 4,
  "cells": [
    {
      "cell_type": "markdown",
      "metadata": {
        "id": "view-in-github",
        "colab_type": "text"
      },
      "source": [
        "<a href=\"https://colab.research.google.com/github/youssef893/Detect_hand_written_Digits/blob/main/cnn_model_for_mnist_dataset.ipynb\" target=\"_parent\"><img src=\"https://colab.research.google.com/assets/colab-badge.svg\" alt=\"Open In Colab\"/></a>"
      ]
    },
    {
      "cell_type": "code",
      "source": [
        "from keras.datasets import mnist\n",
        "from sklearn.utils import shuffle\n",
        "from keras.layers import Conv2D, MaxPooling2D, Flatten\n",
        "from keras.layers import Dense\n",
        "from keras.models import Sequential\n",
        "from tensorflow.keras.utils import to_categorical\n",
        "from sklearn.model_selection import train_test_split\n",
        "import numpy as np\n",
        "from mlxtend.data import loadlocal_mnist"
      ],
      "metadata": {
        "_uuid": "8f2839f25d086af736a60e9eeb907d3b93b6e0e5",
        "_cell_guid": "b1076dfc-b9ad-4769-8c92-a6c4dae69d19",
        "execution": {
          "iopub.status.busy": "2021-12-29T15:54:39.898187Z",
          "iopub.execute_input": "2021-12-29T15:54:39.898958Z",
          "iopub.status.idle": "2021-12-29T15:54:44.832945Z",
          "shell.execute_reply.started": "2021-12-29T15:54:39.898831Z",
          "shell.execute_reply": "2021-12-29T15:54:44.832019Z"
        },
        "trusted": true,
        "id": "O3KC4y3RLsVG"
      },
      "execution_count": 1,
      "outputs": []
    },
    {
      "cell_type": "code",
      "source": [
        "(x_train, y_train), (x_test, y_test) = mnist.load_data()\n",
        "\n",
        "x_train = np.reshape(x_train, (len(x_train), 28, 28, 1))\n",
        "x_test = np.reshape(x_test, (len(x_test), 28, 28, 1))"
      ],
      "metadata": {
        "execution": {
          "iopub.status.busy": "2021-12-29T15:54:44.835574Z",
          "iopub.execute_input": "2021-12-29T15:54:44.836131Z",
          "iopub.status.idle": "2021-12-29T15:54:45.288801Z",
          "shell.execute_reply.started": "2021-12-29T15:54:44.836070Z",
          "shell.execute_reply": "2021-12-29T15:54:45.288029Z"
        },
        "trusted": true,
        "id": "CMn4pm80LsVL"
      },
      "execution_count": 2,
      "outputs": []
    },
    {
      "cell_type": "code",
      "source": [
        "x_train, y_train = shuffle(x_train, y_train, random_state=0)\n",
        "# x_train, y_train, x_valid, y_valid = train_test_split(x_train, y_train)"
      ],
      "metadata": {
        "execution": {
          "iopub.status.busy": "2021-12-29T15:54:45.290352Z",
          "iopub.execute_input": "2021-12-29T15:54:45.290856Z",
          "iopub.status.idle": "2021-12-29T15:54:45.446833Z",
          "shell.execute_reply.started": "2021-12-29T15:54:45.290816Z",
          "shell.execute_reply": "2021-12-29T15:54:45.446054Z"
        },
        "trusted": true,
        "id": "CVNdag4aLsVL"
      },
      "execution_count": 3,
      "outputs": []
    },
    {
      "cell_type": "code",
      "source": [
        "cnn = Sequential()\n",
        "# first conv layer\n",
        "cnn.add(Conv2D(filters=32, kernel_size=(3, 3), activation=\"relu\", input_shape=(28, 28, 1)))\n",
        "# second layer\n",
        "cnn.add(Conv2D(filters=64, kernel_size=(3, 3), activation=\"relu\"))  # filters is number of filters & kernel size is size of filter\n",
        "# max pooling layer\n",
        "cnn.add(MaxPooling2D(pool_size=(2, 2)))\n",
        "cnn.add(Conv2D(filters=128, kernel_size=(3, 3), activation=\"relu\"))\n",
        "cnn.add(Conv2D(filters=256, kernel_size=(3, 3), activation=\"relu\"))\n",
        "cnn.add(MaxPooling2D(pool_size=(2, 2)))\n",
        "cnn.add(Conv2D(filters=256, kernel_size=(3, 3), activation=\"relu\"))\n",
        "cnn.add(MaxPooling2D(pool_size=(2, 2)))\n",
        "# Flatten layer\n",
        "cnn.add(Flatten())\n",
        "# Fully connected layer\n",
        "cnn.add(Dense(512, activation=\"relu\"))\n",
        "cnn.add(Dense(10, activation=\"softmax\"))"
      ],
      "metadata": {
        "execution": {
          "iopub.status.busy": "2021-12-29T15:54:45.449726Z",
          "iopub.execute_input": "2021-12-29T15:54:45.450249Z",
          "iopub.status.idle": "2021-12-29T15:54:47.862978Z",
          "shell.execute_reply.started": "2021-12-29T15:54:45.450206Z",
          "shell.execute_reply": "2021-12-29T15:54:47.862213Z"
        },
        "trusted": true,
        "id": "gYn1iZnQLsVM"
      },
      "execution_count": 4,
      "outputs": []
    },
    {
      "cell_type": "code",
      "source": [
        "cnn.compile(loss=\"categorical_crossentropy\", optimizer=\"adam\", metrics=[\"accuracy\"])\n",
        "cnn.fit(x_train, to_categorical(y_train), epochs=15, batch_size=128,\n",
        "        validation_data=(x_test, to_categorical(y_test)))\n",
        "cnn.save(\"cnn.h5\")"
      ],
      "metadata": {
        "execution": {
          "iopub.status.busy": "2021-12-29T15:54:47.864336Z",
          "iopub.execute_input": "2021-12-29T15:54:47.864761Z"
        },
        "trusted": true,
        "id": "b_CnHTvMLsVN",
        "colab": {
          "base_uri": "https://localhost:8080/"
        },
        "outputId": "962ac05e-5fe2-4c06-82ed-6388a7d73235"
      },
      "execution_count": 5,
      "outputs": [
        {
          "output_type": "stream",
          "name": "stdout",
          "text": [
            "Epoch 1/15\n",
            "469/469 [==============================] - 25s 42ms/step - loss: 0.3325 - accuracy: 0.9223 - val_loss: 0.0492 - val_accuracy: 0.9843\n",
            "Epoch 2/15\n",
            "469/469 [==============================] - 18s 38ms/step - loss: 0.0412 - accuracy: 0.9873 - val_loss: 0.0324 - val_accuracy: 0.9899\n",
            "Epoch 3/15\n",
            "469/469 [==============================] - 18s 38ms/step - loss: 0.0292 - accuracy: 0.9908 - val_loss: 0.0309 - val_accuracy: 0.9905\n",
            "Epoch 4/15\n",
            "469/469 [==============================] - 18s 39ms/step - loss: 0.0250 - accuracy: 0.9918 - val_loss: 0.0321 - val_accuracy: 0.9907\n",
            "Epoch 5/15\n",
            "469/469 [==============================] - 18s 38ms/step - loss: 0.0183 - accuracy: 0.9941 - val_loss: 0.0593 - val_accuracy: 0.9846\n",
            "Epoch 6/15\n",
            "469/469 [==============================] - 18s 37ms/step - loss: 0.0173 - accuracy: 0.9944 - val_loss: 0.0405 - val_accuracy: 0.9893\n",
            "Epoch 7/15\n",
            "469/469 [==============================] - 17s 37ms/step - loss: 0.0173 - accuracy: 0.9945 - val_loss: 0.0265 - val_accuracy: 0.9914\n",
            "Epoch 8/15\n",
            "469/469 [==============================] - 18s 37ms/step - loss: 0.0127 - accuracy: 0.9958 - val_loss: 0.0372 - val_accuracy: 0.9915\n",
            "Epoch 9/15\n",
            "469/469 [==============================] - 18s 38ms/step - loss: 0.0140 - accuracy: 0.9956 - val_loss: 0.0343 - val_accuracy: 0.9918\n",
            "Epoch 10/15\n",
            "469/469 [==============================] - 18s 38ms/step - loss: 0.0142 - accuracy: 0.9952 - val_loss: 0.0269 - val_accuracy: 0.9922\n",
            "Epoch 11/15\n",
            "469/469 [==============================] - 18s 38ms/step - loss: 0.0119 - accuracy: 0.9965 - val_loss: 0.0341 - val_accuracy: 0.9911\n",
            "Epoch 12/15\n",
            "469/469 [==============================] - 18s 38ms/step - loss: 0.0090 - accuracy: 0.9973 - val_loss: 0.0394 - val_accuracy: 0.9899\n",
            "Epoch 13/15\n",
            "469/469 [==============================] - 18s 38ms/step - loss: 0.0117 - accuracy: 0.9962 - val_loss: 0.0506 - val_accuracy: 0.9875\n",
            "Epoch 14/15\n",
            "469/469 [==============================] - 18s 38ms/step - loss: 0.0119 - accuracy: 0.9962 - val_loss: 0.0312 - val_accuracy: 0.9922\n",
            "Epoch 15/15\n",
            "469/469 [==============================] - 18s 38ms/step - loss: 0.0080 - accuracy: 0.9978 - val_loss: 0.0409 - val_accuracy: 0.9922\n"
          ]
        }
      ]
    },
    {
      "cell_type": "code",
      "source": [
        "prediction = cnn.predict(x_test)\n",
        "score = cnn.evaluate(x_test, to_categorical(y_test), verbose=0)\n",
        "print(\"accuracy CNN\", score[1])\n",
        "prediction = np.argmax(prediction, axis=1)"
      ],
      "metadata": {
        "trusted": true,
        "id": "2a4OFBuiLsVO",
        "colab": {
          "base_uri": "https://localhost:8080/"
        },
        "outputId": "266f9feb-d446-4c4e-ac46-1e7ece993458"
      },
      "execution_count": 6,
      "outputs": [
        {
          "output_type": "stream",
          "name": "stdout",
          "text": [
            "accuracy CNN 0.9922000169754028\n"
          ]
        }
      ]
    },
    {
      "cell_type": "code",
      "source": [
        ""
      ],
      "metadata": {
        "id": "GzIVfY75mCcz"
      },
      "execution_count": 6,
      "outputs": []
    }
  ]
}