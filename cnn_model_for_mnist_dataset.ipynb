{
  "metadata": {
    "kernelspec": {
      "language": "python",
      "display_name": "Python 3",
      "name": "python3"
    },
    "language_info": {
      "name": "python",
      "version": "3.7.12",
      "mimetype": "text/x-python",
      "codemirror_mode": {
        "name": "ipython",
        "version": 3
      },
      "pygments_lexer": "ipython3",
      "nbconvert_exporter": "python",
      "file_extension": ".py"
    },
    "colab": {
      "name": "notebookb471c1621d.ipynb",
      "provenance": [],
      "include_colab_link": true
    },
    "accelerator": "GPU"
  },
  "nbformat_minor": 0,
  "nbformat": 4,
  "cells": [
    {
      "cell_type": "markdown",
      "metadata": {
        "id": "view-in-github",
        "colab_type": "text"
      },
      "source": [
        "<a href=\"https://colab.research.google.com/github/youssef893/Detect_hand_written_Digits/blob/main/cnn_model_for_mnist_dataset.ipynb\" target=\"_parent\"><img src=\"https://colab.research.google.com/assets/colab-badge.svg\" alt=\"Open In Colab\"/></a>"
      ]
    },
    {
      "cell_type": "markdown",
      "source": [
        "# Youssef Sayed 20180342\n",
        "# Ahmed Mostafa 20180031\n",
        "# Eslam Sameh 201080045 "
      ],
      "metadata": {
        "id": "W05RnATajX4S"
      }
    },
    {
      "cell_type": "code",
      "source": [
        "from keras.datasets import mnist\n",
        "from sklearn.utils import shuffle\n",
        "from keras.layers import Conv2D, MaxPooling2D, Flatten\n",
        "from keras.layers import Dense\n",
        "from keras.models import Sequential\n",
        "from tensorflow.keras.utils import to_categorical\n",
        "from sklearn.model_selection import train_test_split\n",
        "import numpy as np\n",
        "from mlxtend.data import loadlocal_mnist"
      ],
      "metadata": {
        "_uuid": "8f2839f25d086af736a60e9eeb907d3b93b6e0e5",
        "_cell_guid": "b1076dfc-b9ad-4769-8c92-a6c4dae69d19",
        "execution": {
          "iopub.status.busy": "2021-12-29T15:54:39.898187Z",
          "iopub.execute_input": "2021-12-29T15:54:39.898958Z",
          "iopub.status.idle": "2021-12-29T15:54:44.832945Z",
          "shell.execute_reply.started": "2021-12-29T15:54:39.898831Z",
          "shell.execute_reply": "2021-12-29T15:54:44.832019Z"
        },
        "trusted": true,
        "id": "O3KC4y3RLsVG"
      },
      "execution_count": 1,
      "outputs": []
    },
    {
      "cell_type": "code",
      "source": [
        "(x_train, y_train), (x_test, y_test) = mnist.load_data()\n",
        "\n",
        "x_train = np.reshape(x_train, (len(x_train), 28, 28, 1))\n",
        "x_test = np.reshape(x_test, (len(x_test), 28, 28, 1))"
      ],
      "metadata": {
        "execution": {
          "iopub.status.busy": "2021-12-29T15:54:44.835574Z",
          "iopub.execute_input": "2021-12-29T15:54:44.836131Z",
          "iopub.status.idle": "2021-12-29T15:54:45.288801Z",
          "shell.execute_reply.started": "2021-12-29T15:54:44.836070Z",
          "shell.execute_reply": "2021-12-29T15:54:45.288029Z"
        },
        "trusted": true,
        "id": "CMn4pm80LsVL",
        "outputId": "9c93ae3c-becc-458b-af59-eb0d7130e5eb",
        "colab": {
          "base_uri": "https://localhost:8080/"
        }
      },
      "execution_count": 2,
      "outputs": [
        {
          "output_type": "stream",
          "name": "stdout",
          "text": [
            "Downloading data from https://storage.googleapis.com/tensorflow/tf-keras-datasets/mnist.npz\n",
            "11493376/11490434 [==============================] - 0s 0us/step\n",
            "11501568/11490434 [==============================] - 0s 0us/step\n"
          ]
        }
      ]
    },
    {
      "cell_type": "code",
      "source": [
        "x_train, y_train = shuffle(x_train, y_train, random_state=0)\n",
        "# x_train, y_train, x_valid, y_valid = train_test_split(x_train, y_train)"
      ],
      "metadata": {
        "execution": {
          "iopub.status.busy": "2021-12-29T15:54:45.290352Z",
          "iopub.execute_input": "2021-12-29T15:54:45.290856Z",
          "iopub.status.idle": "2021-12-29T15:54:45.446833Z",
          "shell.execute_reply.started": "2021-12-29T15:54:45.290816Z",
          "shell.execute_reply": "2021-12-29T15:54:45.446054Z"
        },
        "trusted": true,
        "id": "CVNdag4aLsVL"
      },
      "execution_count": 3,
      "outputs": []
    },
    {
      "cell_type": "code",
      "source": [
        "cnn = Sequential()\n",
        "# first conv layer\n",
        "cnn.add(Conv2D(filters=32, kernel_size=(3, 3), activation=\"relu\", input_shape=(28, 28, 1)))\n",
        "# second layer\n",
        "cnn.add(Conv2D(filters=64, kernel_size=(3, 3), activation=\"relu\"))  # filters is number of filters & kernel size is size of filter\n",
        "# max pooling layer\n",
        "cnn.add(MaxPooling2D(pool_size=(2, 2)))\n",
        "cnn.add(Conv2D(filters=128, kernel_size=(3, 3), activation=\"relu\"))\n",
        "cnn.add(Conv2D(filters=256, kernel_size=(3, 3), activation=\"relu\"))\n",
        "cnn.add(MaxPooling2D(pool_size=(2, 2)))\n",
        "cnn.add(Conv2D(filters=256, kernel_size=(3, 3), activation=\"relu\"))\n",
        "cnn.add(MaxPooling2D(pool_size=(2, 2)))\n",
        "# Flatten layer\n",
        "cnn.add(Flatten())\n",
        "# Fully connected layer\n",
        "cnn.add(Dense(512, activation=\"relu\"))\n",
        "cnn.add(Dense(10, activation=\"softmax\"))"
      ],
      "metadata": {
        "execution": {
          "iopub.status.busy": "2021-12-29T15:54:45.449726Z",
          "iopub.execute_input": "2021-12-29T15:54:45.450249Z",
          "iopub.status.idle": "2021-12-29T15:54:47.862978Z",
          "shell.execute_reply.started": "2021-12-29T15:54:45.450206Z",
          "shell.execute_reply": "2021-12-29T15:54:47.862213Z"
        },
        "trusted": true,
        "id": "gYn1iZnQLsVM"
      },
      "execution_count": 4,
      "outputs": []
    },
    {
      "cell_type": "code",
      "source": [
        "cnn.compile(loss=\"categorical_crossentropy\", optimizer=\"adam\", metrics=[\"accuracy\"])\n",
        "cnn.fit(x_train, to_categorical(y_train), epochs=15, batch_size=128,\n",
        "        validation_data=(x_test, to_categorical(y_test)))\n",
        "cnn.save(\"cnn.h5\")"
      ],
      "metadata": {
        "execution": {
          "iopub.status.busy": "2021-12-29T15:54:47.864336Z",
          "iopub.execute_input": "2021-12-29T15:54:47.864761Z"
        },
        "trusted": true,
        "id": "b_CnHTvMLsVN",
        "colab": {
          "base_uri": "https://localhost:8080/"
        },
        "outputId": "1aa46e1d-7cb4-4a58-ef58-093a840e548c"
      },
      "execution_count": 5,
      "outputs": [
        {
          "output_type": "stream",
          "name": "stdout",
          "text": [
            "Epoch 1/15\n",
            "469/469 [==============================] - 21s 15ms/step - loss: 0.3825 - accuracy: 0.9210 - val_loss: 0.0395 - val_accuracy: 0.9860\n",
            "Epoch 2/15\n",
            "469/469 [==============================] - 6s 13ms/step - loss: 0.0397 - accuracy: 0.9882 - val_loss: 0.0334 - val_accuracy: 0.9891\n",
            "Epoch 3/15\n",
            "469/469 [==============================] - 7s 14ms/step - loss: 0.0311 - accuracy: 0.9904 - val_loss: 0.0365 - val_accuracy: 0.9888\n",
            "Epoch 4/15\n",
            "469/469 [==============================] - 6s 13ms/step - loss: 0.0239 - accuracy: 0.9924 - val_loss: 0.0259 - val_accuracy: 0.9917\n",
            "Epoch 5/15\n",
            "469/469 [==============================] - 6s 14ms/step - loss: 0.0184 - accuracy: 0.9942 - val_loss: 0.0226 - val_accuracy: 0.9918\n",
            "Epoch 6/15\n",
            "469/469 [==============================] - 6s 14ms/step - loss: 0.0159 - accuracy: 0.9951 - val_loss: 0.0314 - val_accuracy: 0.9920\n",
            "Epoch 7/15\n",
            "469/469 [==============================] - 7s 14ms/step - loss: 0.0176 - accuracy: 0.9943 - val_loss: 0.0353 - val_accuracy: 0.9895\n",
            "Epoch 8/15\n",
            "469/469 [==============================] - 6s 14ms/step - loss: 0.0163 - accuracy: 0.9946 - val_loss: 0.0282 - val_accuracy: 0.9914\n",
            "Epoch 9/15\n",
            "469/469 [==============================] - 7s 15ms/step - loss: 0.0119 - accuracy: 0.9962 - val_loss: 0.0370 - val_accuracy: 0.9893\n",
            "Epoch 10/15\n",
            "469/469 [==============================] - 7s 14ms/step - loss: 0.0146 - accuracy: 0.9955 - val_loss: 0.0239 - val_accuracy: 0.9926\n",
            "Epoch 11/15\n",
            "469/469 [==============================] - 6s 14ms/step - loss: 0.0123 - accuracy: 0.9962 - val_loss: 0.0436 - val_accuracy: 0.9885\n",
            "Epoch 12/15\n",
            "469/469 [==============================] - 7s 14ms/step - loss: 0.0122 - accuracy: 0.9962 - val_loss: 0.0401 - val_accuracy: 0.9893\n",
            "Epoch 13/15\n",
            "469/469 [==============================] - 6s 14ms/step - loss: 0.0129 - accuracy: 0.9961 - val_loss: 0.0242 - val_accuracy: 0.9921\n",
            "Epoch 14/15\n",
            "469/469 [==============================] - 7s 14ms/step - loss: 0.0093 - accuracy: 0.9973 - val_loss: 0.0356 - val_accuracy: 0.9902\n",
            "Epoch 15/15\n",
            "469/469 [==============================] - 7s 14ms/step - loss: 0.0099 - accuracy: 0.9971 - val_loss: 0.0369 - val_accuracy: 0.9917\n"
          ]
        }
      ]
    },
    {
      "cell_type": "code",
      "source": [
        "prediction = cnn.predict(x_test)\n",
        "score = cnn.evaluate(x_test, to_categorical(y_test), verbose=0)\n",
        "print(\"accuracy CNN\", score[1])\n",
        "prediction = np.argmax(prediction, axis=1)"
      ],
      "metadata": {
        "trusted": true,
        "id": "2a4OFBuiLsVO",
        "colab": {
          "base_uri": "https://localhost:8080/"
        },
        "outputId": "69f9b80f-328d-4f9b-b38e-f77d005b864d"
      },
      "execution_count": 6,
      "outputs": [
        {
          "output_type": "stream",
          "name": "stdout",
          "text": [
            "accuracy CNN 0.9916999936103821\n"
          ]
        }
      ]
    },
    {
      "cell_type": "code",
      "source": [
        "import numpy as np\n",
        "import matplotlib.pyplot as plt\n",
        "import seaborn as sns"
      ],
      "metadata": {
        "id": "GzIVfY75mCcz"
      },
      "execution_count": 7,
      "outputs": []
    },
    {
      "cell_type": "code",
      "source": [
        "from sklearn.metrics import classification_report, confusion_matrix\n",
        "cf_matrix = confusion_matrix(prediction, y_test)"
      ],
      "metadata": {
        "id": "skdLNGdi5wZp"
      },
      "execution_count": 8,
      "outputs": []
    },
    {
      "cell_type": "code",
      "source": [
        "print(classification_report(prediction, y_test))"
      ],
      "metadata": {
        "id": "RwFms3yk7LNe",
        "outputId": "1980b10c-f086-4dc4-dc61-0b3ffdba935f",
        "colab": {
          "base_uri": "https://localhost:8080/"
        }
      },
      "execution_count": 9,
      "outputs": [
        {
          "output_type": "stream",
          "name": "stdout",
          "text": [
            "              precision    recall  f1-score   support\n",
            "\n",
            "           0       1.00      0.99      1.00       985\n",
            "           1       1.00      0.99      0.99      1142\n",
            "           2       1.00      0.99      0.99      1036\n",
            "           3       1.00      0.99      0.99      1020\n",
            "           4       0.99      1.00      0.99       970\n",
            "           5       0.99      0.99      0.99       892\n",
            "           6       0.99      0.99      0.99       953\n",
            "           7       0.99      0.99      0.99      1020\n",
            "           8       1.00      0.99      0.99       978\n",
            "           9       0.98      0.99      0.99      1004\n",
            "\n",
            "    accuracy                           0.99     10000\n",
            "   macro avg       0.99      0.99      0.99     10000\n",
            "weighted avg       0.99      0.99      0.99     10000\n",
            "\n"
          ]
        }
      ]
    },
    {
      "cell_type": "code",
      "source": [
        "sns.set(rc = {'figure.figsize':(20, 10)})\n",
        "ax = sns.heatmap(cf_matrix, annot=True, cmap='Blues')\n",
        "ax.set_title(f'Seaborn Confusion Matrix with labels\\n\\n')\n",
        "ax.set_xlabel('\\nPredicted Entity')\n",
        "ax.set_ylabel('Actual Entity')\n",
        "# Ticket labels - List must be in alphabetical order\n",
        "ax.xaxis.set_ticklabels([0,1,2,3,4,5,6,7,8,9])\n",
        "ax.yaxis.set_ticklabels([0,1,2,3,4,5,6,7,8,9])"
      ],
      "metadata": {
        "id": "YEYUxBX46avb",
        "outputId": "94a9deeb-590f-4b59-a19c-d234bd138afe",
        "colab": {
          "base_uri": "https://localhost:8080/",
          "height": 846
        }
      },
      "execution_count": 10,
      "outputs": [
        {
          "output_type": "execute_result",
          "data": {
            "text/plain": [
              "[Text(0, 0.5, '0'),\n",
              " Text(0, 1.5, '1'),\n",
              " Text(0, 2.5, '2'),\n",
              " Text(0, 3.5, '3'),\n",
              " Text(0, 4.5, '4'),\n",
              " Text(0, 5.5, '5'),\n",
              " Text(0, 6.5, '6'),\n",
              " Text(0, 7.5, '7'),\n",
              " Text(0, 8.5, '8'),\n",
              " Text(0, 9.5, '9')]"
            ]
          },
          "metadata": {},
          "execution_count": 10
        },
        {
          "output_type": "display_data",
          "data": {
            "text/plain": [
              "<Figure size 1440x720 with 2 Axes>"
            ],
            "image/png": "[encoded data removed]"
          },
          "metadata": {}
        }
      ]
    },
    {
      "cell_type": "markdown",
      "source": [
        "# Evaluation metrcis from Scratch"
      ],
      "metadata": {
        "id": "liMjjYMlhsdr"
      }
    },
    {
      "cell_type": "code",
      "source": [
        "def class_conv(class_num):\n",
        "  fp = 0\n",
        "  fn = 0\n",
        "\n",
        "  tp = 0\n",
        "  tn = 0\n",
        "\n",
        "  for actual_value, predicted_value in zip(y_test, prediction):\n",
        "      if predicted_value == actual_value: # t?\n",
        "          if predicted_value == class_num: # tp\n",
        "              tp += 1\n",
        "          else: # tn\n",
        "              tn += 1\n",
        "      else: # f?\n",
        "          if predicted_value == class_num: # fp\n",
        "              fp += 1\n",
        "          else: # fn\n",
        "              fn += 1\n",
        "              \n",
        "  our_confusion_matrix = [\n",
        "      [tn, fp],\n",
        "      [fn, tp]\n",
        "  ]\n",
        "  # we convert it to numpy array to be printed properly as a matrix\n",
        "\n",
        "  our_confusion_matrix = np.array(our_confusion_matrix)\n",
        "  return our_confusion_matrix, fp, fn, tp, tn"
      ],
      "metadata": {
        "id": "YfyNgGcjhqCk"
      },
      "execution_count": 14,
      "outputs": []
    },
    {
      "cell_type": "code",
      "source": [
        "for i in set(y_test):\n",
        "  print(f' =============== class {i} ===============')\n",
        "  our_confusion_matrix, fp, fn, tp, tn = class_conv(i)\n",
        "  print('Confusion matrix: ', '\\n', our_confusion_matrix, '\\n')\n",
        "  precision = tp / (tp + fp)\n",
        "  print('Precision =', precision, '\\n')\n",
        "  recall = tp / (tp + fn)\n",
        "  print('Recall =', recall, '\\n')\n",
        "  f1 = (2 * precision * recall) / (precision + recall)\n",
        "  print('F1 =', f1, '\\n')\n",
        "  "
      ],
      "metadata": {
        "colab": {
          "base_uri": "https://localhost:8080/"
        },
        "id": "15cyjP4ohyLd",
        "outputId": "6a8bd676-f810-415b-f6b2-0fd765ca6659"
      },
      "execution_count": 15,
      "outputs": [
        {
          "output_type": "stream",
          "name": "stdout",
          "text": [
            " =============== class 0 ===============\n",
            "Confusion matrix:  \n",
            " [[8939    7]\n",
            " [  76  978]] \n",
            "\n",
            "Precision = 0.9928934010152284 \n",
            "\n",
            "Recall = 0.9278937381404174 \n",
            "\n",
            "F1 = 0.9592937714565962 \n",
            "\n",
            " =============== class 1 ===============\n",
            "Confusion matrix:  \n",
            " [[8785   10]\n",
            " [  73 1132]] \n",
            "\n",
            "Precision = 0.9912434325744308 \n",
            "\n",
            "Recall = 0.9394190871369295 \n",
            "\n",
            "F1 = 0.9646357051555177 \n",
            "\n",
            " =============== class 2 ===============\n",
            "Confusion matrix:  \n",
            " [[8890    9]\n",
            " [  74 1027]] \n",
            "\n",
            "Precision = 0.9913127413127413 \n",
            "\n",
            "Recall = 0.932788374205268 \n",
            "\n",
            "F1 = 0.9611605053813758 \n",
            "\n",
            " =============== class 3 ===============\n",
            "Confusion matrix:  \n",
            " [[8911   14]\n",
            " [  69 1006]] \n",
            "\n",
            "Precision = 0.9862745098039216 \n",
            "\n",
            "Recall = 0.935813953488372 \n",
            "\n",
            "F1 = 0.960381861575179 \n",
            "\n",
            " =============== class 4 ===============\n",
            "Confusion matrix:  \n",
            " [[8949    2]\n",
            " [  81  968]] \n",
            "\n",
            "Precision = 0.9979381443298969 \n",
            "\n",
            "Recall = 0.9227836034318398 \n",
            "\n",
            "F1 = 0.9588905398712234 \n",
            "\n",
            " =============== class 5 ===============\n",
            "Confusion matrix:  \n",
            " [[9034    9]\n",
            " [  74  883]] \n",
            "\n",
            "Precision = 0.9899103139013453 \n",
            "\n",
            "Recall = 0.922675026123302 \n",
            "\n",
            "F1 = 0.955110870740941 \n",
            "\n",
            " =============== class 6 ===============\n",
            "Confusion matrix:  \n",
            " [[8969    5]\n",
            " [  78  948]] \n",
            "\n",
            "Precision = 0.9947534102833159 \n",
            "\n",
            "Recall = 0.9239766081871345 \n",
            "\n",
            "F1 = 0.9580596260737746 \n",
            "\n",
            " =============== class 7 ===============\n",
            "Confusion matrix:  \n",
            " [[8904    7]\n",
            " [  76 1013]] \n",
            "\n",
            "Precision = 0.9931372549019608 \n",
            "\n",
            "Recall = 0.9302112029384757 \n",
            "\n",
            "F1 = 0.9606448553816975 \n",
            "\n",
            " =============== class 8 ===============\n",
            "Confusion matrix:  \n",
            " [[8947    8]\n",
            " [  75  970]] \n",
            "\n",
            "Precision = 0.9918200408997955 \n",
            "\n",
            "Recall = 0.9282296650717703 \n",
            "\n",
            "F1 = 0.9589718240237272 \n",
            "\n",
            " =============== class 9 ===============\n",
            "Confusion matrix:  \n",
            " [[8925   12]\n",
            " [  71  992]] \n",
            "\n",
            "Precision = 0.9880478087649402 \n",
            "\n",
            "Recall = 0.9332079021636877 \n",
            "\n",
            "F1 = 0.9598451862602806 \n",
            "\n"
          ]
        }
      ]
    },
    {
      "cell_type": "code",
      "source": [
        ""
      ],
      "metadata": {
        "id": "iqF-iM2gi87R"
      },
      "execution_count": null,
      "outputs": []
    }
  ]
}