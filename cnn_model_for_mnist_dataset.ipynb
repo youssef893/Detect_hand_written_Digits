{
  "metadata": {
    "kernelspec": {
      "language": "python",
      "display_name": "Python 3",
      "name": "python3"
    },
    "language_info": {
      "name": "python",
      "version": "3.7.12",
      "mimetype": "text/x-python",
      "codemirror_mode": {
        "name": "ipython",
        "version": 3
      },
      "pygments_lexer": "ipython3",
      "nbconvert_exporter": "python",
      "file_extension": ".py"
    },
    "colab": {
      "name": "notebookb471c1621d.ipynb",
      "provenance": [],
      "include_colab_link": true
    },
    "accelerator": "GPU"
  },
  "nbformat_minor": 0,
  "nbformat": 4,
  "cells": [
    {
      "cell_type": "markdown",
      "metadata": {
        "id": "view-in-github",
        "colab_type": "text"
      },
      "source": [
        "<a href=\"https://colab.research.google.com/github/youssef893/Detect_hand_written_Digits/blob/main/cnn_model_for_mnist_dataset.ipynb\" target=\"_parent\"><img src=\"https://colab.research.google.com/assets/colab-badge.svg\" alt=\"Open In Colab\"/></a>"
      ]
    },
    {
      "cell_type": "code",
      "source": [
        "from keras.datasets import mnist\n",
        "from sklearn.utils import shuffle\n",
        "from keras.layers import Conv2D, MaxPooling2D, Flatten\n",
        "from keras.layers import Dense\n",
        "from keras.models import Sequential\n",
        "from tensorflow.keras.utils import to_categorical\n",
        "from sklearn.model_selection import train_test_split\n",
        "import numpy as np\n",
        "from mlxtend.data import loadlocal_mnist"
      ],
      "metadata": {
        "_uuid": "8f2839f25d086af736a60e9eeb907d3b93b6e0e5",
        "_cell_guid": "b1076dfc-b9ad-4769-8c92-a6c4dae69d19",
        "execution": {
          "iopub.status.busy": "2021-12-29T15:54:39.898187Z",
          "iopub.execute_input": "2021-12-29T15:54:39.898958Z",
          "iopub.status.idle": "2021-12-29T15:54:44.832945Z",
          "shell.execute_reply.started": "2021-12-29T15:54:39.898831Z",
          "shell.execute_reply": "2021-12-29T15:54:44.832019Z"
        },
        "trusted": true,
        "id": "O3KC4y3RLsVG"
      },
      "execution_count": 1,
      "outputs": []
    },
    {
      "cell_type": "code",
      "source": [
        "(x_train, y_train), (x_test, y_test) = mnist.load_data()\n",
        "\n",
        "x_train = np.reshape(x_train, (len(x_train), 28, 28, 1))\n",
        "x_test = np.reshape(x_test, (len(x_test), 28, 28, 1))"
      ],
      "metadata": {
        "execution": {
          "iopub.status.busy": "2021-12-29T15:54:44.835574Z",
          "iopub.execute_input": "2021-12-29T15:54:44.836131Z",
          "iopub.status.idle": "2021-12-29T15:54:45.288801Z",
          "shell.execute_reply.started": "2021-12-29T15:54:44.836070Z",
          "shell.execute_reply": "2021-12-29T15:54:45.288029Z"
        },
        "trusted": true,
        "id": "CMn4pm80LsVL",
        "outputId": "a2b1956f-3a3f-4808-9d00-9e45a8da0e8a",
        "colab": {
          "base_uri": "https://localhost:8080/"
        }
      },
      "execution_count": 2,
      "outputs": [
        {
          "output_type": "stream",
          "name": "stdout",
          "text": [
            "Downloading data from https://storage.googleapis.com/tensorflow/tf-keras-datasets/mnist.npz\n",
            "11493376/11490434 [==============================] - 0s 0us/step\n",
            "11501568/11490434 [==============================] - 0s 0us/step\n"
          ]
        }
      ]
    },
    {
      "cell_type": "code",
      "source": [
        "x_train, y_train = shuffle(x_train, y_train, random_state=0)\n",
        "# x_train, y_train, x_valid, y_valid = train_test_split(x_train, y_train)"
      ],
      "metadata": {
        "execution": {
          "iopub.status.busy": "2021-12-29T15:54:45.290352Z",
          "iopub.execute_input": "2021-12-29T15:54:45.290856Z",
          "iopub.status.idle": "2021-12-29T15:54:45.446833Z",
          "shell.execute_reply.started": "2021-12-29T15:54:45.290816Z",
          "shell.execute_reply": "2021-12-29T15:54:45.446054Z"
        },
        "trusted": true,
        "id": "CVNdag4aLsVL"
      },
      "execution_count": 3,
      "outputs": []
    },
    {
      "cell_type": "code",
      "source": [
        "cnn = Sequential()\n",
        "# first conv layer\n",
        "cnn.add(Conv2D(filters=32, kernel_size=(3, 3), activation=\"relu\", input_shape=(28, 28, 1)))\n",
        "# second layer\n",
        "cnn.add(Conv2D(filters=64, kernel_size=(3, 3), activation=\"relu\"))  # filters is number of filters & kernel size is size of filter\n",
        "# max pooling layer\n",
        "cnn.add(MaxPooling2D(pool_size=(2, 2)))\n",
        "cnn.add(Conv2D(filters=128, kernel_size=(3, 3), activation=\"relu\"))\n",
        "cnn.add(Conv2D(filters=256, kernel_size=(3, 3), activation=\"relu\"))\n",
        "cnn.add(MaxPooling2D(pool_size=(2, 2)))\n",
        "cnn.add(Conv2D(filters=256, kernel_size=(3, 3), activation=\"relu\"))\n",
        "cnn.add(MaxPooling2D(pool_size=(2, 2)))\n",
        "# Flatten layer\n",
        "cnn.add(Flatten())\n",
        "# Fully connected layer\n",
        "cnn.add(Dense(512, activation=\"relu\"))\n",
        "cnn.add(Dense(10, activation=\"softmax\"))"
      ],
      "metadata": {
        "execution": {
          "iopub.status.busy": "2021-12-29T15:54:45.449726Z",
          "iopub.execute_input": "2021-12-29T15:54:45.450249Z",
          "iopub.status.idle": "2021-12-29T15:54:47.862978Z",
          "shell.execute_reply.started": "2021-12-29T15:54:45.450206Z",
          "shell.execute_reply": "2021-12-29T15:54:47.862213Z"
        },
        "trusted": true,
        "id": "gYn1iZnQLsVM"
      },
      "execution_count": 4,
      "outputs": []
    },
    {
      "cell_type": "code",
      "source": [
        "cnn.compile(loss=\"categorical_crossentropy\", optimizer=\"adam\", metrics=[\"accuracy\"])\n",
        "cnn.fit(x_train, to_categorical(y_train), epochs=15, batch_size=128,\n",
        "        validation_data=(x_test, to_categorical(y_test)))\n",
        "cnn.save(\"cnn.h5\")"
      ],
      "metadata": {
        "execution": {
          "iopub.status.busy": "2021-12-29T15:54:47.864336Z",
          "iopub.execute_input": "2021-12-29T15:54:47.864761Z"
        },
        "trusted": true,
        "id": "b_CnHTvMLsVN",
        "colab": {
          "base_uri": "https://localhost:8080/"
        },
        "outputId": "8c2c392d-d64f-41f4-ba70-c7de9b3532fb"
      },
      "execution_count": 5,
      "outputs": [
        {
          "output_type": "stream",
          "name": "stdout",
          "text": [
            "Epoch 1/15\n",
            "469/469 [==============================] - 19s 15ms/step - loss: 0.3617 - accuracy: 0.9164 - val_loss: 0.0331 - val_accuracy: 0.9902\n",
            "Epoch 2/15\n",
            "469/469 [==============================] - 7s 16ms/step - loss: 0.0384 - accuracy: 0.9882 - val_loss: 0.0370 - val_accuracy: 0.9874\n",
            "Epoch 3/15\n",
            "469/469 [==============================] - 7s 14ms/step - loss: 0.0259 - accuracy: 0.9916 - val_loss: 0.0217 - val_accuracy: 0.9933\n",
            "Epoch 4/15\n",
            "469/469 [==============================] - 7s 14ms/step - loss: 0.0245 - accuracy: 0.9920 - val_loss: 0.0337 - val_accuracy: 0.9908\n",
            "Epoch 5/15\n",
            "469/469 [==============================] - 7s 14ms/step - loss: 0.0206 - accuracy: 0.9933 - val_loss: 0.0275 - val_accuracy: 0.9910\n",
            "Epoch 6/15\n",
            "469/469 [==============================] - 6s 14ms/step - loss: 0.0164 - accuracy: 0.9945 - val_loss: 0.0283 - val_accuracy: 0.9918\n",
            "Epoch 7/15\n",
            "469/469 [==============================] - 7s 14ms/step - loss: 0.0140 - accuracy: 0.9955 - val_loss: 0.0328 - val_accuracy: 0.9911\n",
            "Epoch 8/15\n",
            "469/469 [==============================] - 7s 14ms/step - loss: 0.0131 - accuracy: 0.9962 - val_loss: 0.0330 - val_accuracy: 0.9918\n",
            "Epoch 9/15\n",
            "469/469 [==============================] - 7s 14ms/step - loss: 0.0106 - accuracy: 0.9967 - val_loss: 0.0385 - val_accuracy: 0.9896\n",
            "Epoch 10/15\n",
            "469/469 [==============================] - 7s 14ms/step - loss: 0.0155 - accuracy: 0.9952 - val_loss: 0.0300 - val_accuracy: 0.9918\n",
            "Epoch 11/15\n",
            "469/469 [==============================] - 7s 14ms/step - loss: 0.0128 - accuracy: 0.9962 - val_loss: 0.0345 - val_accuracy: 0.9914\n",
            "Epoch 12/15\n",
            "469/469 [==============================] - 7s 14ms/step - loss: 0.0115 - accuracy: 0.9966 - val_loss: 0.0352 - val_accuracy: 0.9918\n",
            "Epoch 13/15\n",
            "469/469 [==============================] - 7s 14ms/step - loss: 0.0098 - accuracy: 0.9968 - val_loss: 0.0531 - val_accuracy: 0.9875\n",
            "Epoch 14/15\n",
            "469/469 [==============================] - 6s 14ms/step - loss: 0.0122 - accuracy: 0.9965 - val_loss: 0.0407 - val_accuracy: 0.9900\n",
            "Epoch 15/15\n",
            "469/469 [==============================] - 7s 14ms/step - loss: 0.0111 - accuracy: 0.9965 - val_loss: 0.0290 - val_accuracy: 0.9927\n"
          ]
        }
      ]
    },
    {
      "cell_type": "code",
      "source": [
        "prediction = cnn.predict(x_test)\n",
        "score = cnn.evaluate(x_test, to_categorical(y_test), verbose=0)\n",
        "print(\"accuracy CNN\", score[1])\n",
        "prediction = np.argmax(prediction, axis=1)"
      ],
      "metadata": {
        "trusted": true,
        "id": "2a4OFBuiLsVO",
        "colab": {
          "base_uri": "https://localhost:8080/"
        },
        "outputId": "1fcdaeaa-1e10-4f81-df38-6ecd5138c6d0"
      },
      "execution_count": 6,
      "outputs": [
        {
          "output_type": "stream",
          "name": "stdout",
          "text": [
            "accuracy CNN 0.9926999807357788\n"
          ]
        }
      ]
    },
    {
      "cell_type": "code",
      "source": [
        "import numpy as np\n",
        "import matplotlib.pyplot as plt\n",
        "import seaborn as sns"
      ],
      "metadata": {
        "id": "GzIVfY75mCcz"
      },
      "execution_count": 7,
      "outputs": []
    },
    {
      "cell_type": "code",
      "source": [
        "from sklearn.metrics import classification_report, confusion_matrix\n",
        "cf_matrix = confusion_matrix(prediction, y_test)"
      ],
      "metadata": {
        "id": "skdLNGdi5wZp"
      },
      "execution_count": 14,
      "outputs": []
    },
    {
      "cell_type": "code",
      "source": [
        "print(classification_report(prediction, y_test))"
      ],
      "metadata": {
        "id": "RwFms3yk7LNe",
        "outputId": "1837564e-50e0-413c-bea2-fd6d2d367744",
        "colab": {
          "base_uri": "https://localhost:8080/"
        }
      },
      "execution_count": 17,
      "outputs": [
        {
          "output_type": "stream",
          "name": "stdout",
          "text": [
            "              precision    recall  f1-score   support\n",
            "\n",
            "           0       1.00      0.99      1.00       983\n",
            "           1       1.00      0.99      1.00      1140\n",
            "           2       0.99      1.00      0.99      1019\n",
            "           3       1.00      0.99      0.99      1020\n",
            "           4       0.99      0.99      0.99       985\n",
            "           5       0.99      0.99      0.99       890\n",
            "           6       0.99      0.99      0.99       953\n",
            "           7       0.99      0.99      0.99      1034\n",
            "           8       0.99      1.00      0.99       969\n",
            "           9       0.99      0.99      0.99      1007\n",
            "\n",
            "    accuracy                           0.99     10000\n",
            "   macro avg       0.99      0.99      0.99     10000\n",
            "weighted avg       0.99      0.99      0.99     10000\n",
            "\n"
          ]
        }
      ]
    },
    {
      "cell_type": "code",
      "source": [
        "sns.set(rc = {'figure.figsize':(20, 10)})\n",
        "ax = sns.heatmap(cf_matrix, annot=True, cmap='Blues')\n",
        "ax.set_title(f'Seaborn Confusion Matrix with labels\\n\\n')\n",
        "ax.set_xlabel('\\nPredicted Entity')\n",
        "ax.set_ylabel('Actual Entity')\n",
        "# Ticket labels - List must be in alphabetical order\n",
        "ax.xaxis.set_ticklabels([0,1,2,3,4,5,6,7,8,9])\n",
        "ax.yaxis.set_ticklabels([0,1,2,3,4,5,6,7,8,9])"
      ],
      "metadata": {
        "id": "YEYUxBX46avb",
        "outputId": "f30ee6ae-4762-4629-a528-c2a900cebe17",
        "colab": {
          "base_uri": "https://localhost:8080/",
          "height": 630
        }
      },
      "execution_count": 13,
      "outputs": [
        {
          "output_type": "execute_result",
          "data": {
            "text/plain": [
              "[Text(0, 0.5, '0'),\n",
              " Text(0, 1.5, '1'),\n",
              " Text(0, 2.5, '2'),\n",
              " Text(0, 3.5, '3'),\n",
              " Text(0, 4.5, '4'),\n",
              " Text(0, 5.5, '5'),\n",
              " Text(0, 6.5, '6'),\n",
              " Text(0, 7.5, '7'),\n",
              " Text(0, 8.5, '8'),\n",
              " Text(0, 9.5, '9')]"
            ]
          },
          "metadata": {},
          "execution_count": 13
        },
        {
          "output_type": "display_data",
          "data": {
            "text/plain": [
              "<Figure size 1440x720 with 2 Axes>"
            ],
            "image/png": "[encoded data removed]"
          },
          "metadata": {}
        }
      ]
    }
  ]
}